{
 "cells": [
  {
   "cell_type": "code",
   "execution_count": 1,
   "id": "904b2fbe",
   "metadata": {},
   "outputs": [
    {
     "name": "stdout",
     "output_type": "stream",
     "text": [
      "enter age of the person21\n",
      "the person is eligible to vote\n"
     ]
    }
   ],
   "source": [
    "##Program to check whether the person is available for vote or not\n",
    "a=int(input(\"enter age of the person\")) \n",
    "if a>=18:\n",
    "    print(\"the person is eligible to vote\")\n",
    "else:\n",
    "    print(\"the person is not eligible to vote\")"
   ]
  },
  {
   "cell_type": "code",
   "execution_count": 2,
   "id": "6a879152",
   "metadata": {},
   "outputs": [
    {
     "name": "stdout",
     "output_type": "stream",
     "text": [
      "Enter any number:31\n",
      "The given number is positive number\n"
     ]
    }
   ],
   "source": [
    "##Program to check whether a number is positive or not\n",
    "a=int(input(\"Enter any number:\"))\n",
    "if a>=0:\n",
    "    print(\"The given number is positive number\")\n",
    "else:\n",
    "    print(\"the given number is negative number\")"
   ]
  },
  {
   "cell_type": "code",
   "execution_count": 3,
   "id": "6301fc59",
   "metadata": {},
   "outputs": [
    {
     "name": "stdout",
     "output_type": "stream",
     "text": [
      " Enter number: 32\n",
      "given number is even and divisible by 4 \n"
     ]
    }
   ],
   "source": [
    "##program to check the given number is even or odd if it's even check which is divisible by 4 or not\n",
    "\n",
    "a = int(input(\" Enter number: \"))\n",
    "\n",
    "if (a % 2) ==0 :\n",
    "    if (a % 4) ==0:\n",
    "        print(\"given number is even and divisible by 4 \")\n",
    "    else:\n",
    "        print(\"given number is even and not divisible by 4 \")\n",
    "else:\n",
    "    print(\"given number is odd\")"
   ]
  },
  {
   "cell_type": "code",
   "execution_count": 4,
   "id": "2c560385",
   "metadata": {},
   "outputs": [
    {
     "name": "stdout",
     "output_type": "stream",
     "text": [
      "Enter percantage obatained by the student92\n",
      "distinction\n"
     ]
    }
   ],
   "source": [
    "a = int(input(\"Enter percantage obatained by the student\"))\n",
    "if a>=92:\n",
    "    print(\"distinction\")\n",
    "elif a>=50:\n",
    "    print(\"pass\")\n",
    "else:\n",
    "    print(\"fail\")"
   ]
  },
  {
   "cell_type": "code",
   "execution_count": 5,
   "id": "ce76bb6f",
   "metadata": {},
   "outputs": [
    {
     "name": "stdout",
     "output_type": "stream",
     "text": [
      "Enter year here 2021\n",
      " is not a leap year\n"
     ]
    }
   ],
   "source": [
    "# program to check if year is a leap year or not\n",
    "\n",
    "a = int(input(\"Enter year here \"))\n",
    "\n",
    "if (a % 4) == 0:\n",
    "   if (a % 100) == 0:\n",
    "       if (a % 400) == 0:\n",
    "           print(\" is a leap year\")\n",
    "       else:\n",
    "           print(\" is not a leap year\")\n",
    "   else:\n",
    "       print(\"is a leap year\")\n",
    "else:\n",
    "   print(\" is not a leap year\")"
   ]
  },
  {
   "cell_type": "code",
   "execution_count": null,
   "id": "f1becc61",
   "metadata": {},
   "outputs": [],
   "source": []
  }
 ],
 "metadata": {
  "kernelspec": {
   "display_name": "Python 3",
   "language": "python",
   "name": "python3"
  },
  "language_info": {
   "codemirror_mode": {
    "name": "ipython",
    "version": 3
   },
   "file_extension": ".py",
   "mimetype": "text/x-python",
   "name": "python",
   "nbconvert_exporter": "python",
   "pygments_lexer": "ipython3",
   "version": "3.8.8"
  }
 },
 "nbformat": 4,
 "nbformat_minor": 5
}
