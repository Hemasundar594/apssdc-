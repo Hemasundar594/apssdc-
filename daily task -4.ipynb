{
 "cells": [
  {
   "cell_type": "markdown",
   "id": "e4c71624",
   "metadata": {},
   "source": [
    "1) Program to convert list of items into string"
   ]
  },
  {
   "cell_type": "code",
   "execution_count": 2,
   "id": "0ff41e99",
   "metadata": {},
   "outputs": [
    {
     "name": "stdout",
     "output_type": "stream",
     "text": [
      "i am very good person\n"
     ]
    }
   ],
   "source": [
    "s=[\"i\", \"am\", \"very\", \"good\", \"person\"]\n",
    "s=\" \".join(s)\n",
    "print(s)"
   ]
  },
  {
   "cell_type": "markdown",
   "id": "690a8dc9",
   "metadata": {},
   "source": [
    "2) Write a program to seperate even and odd numbers in the list"
   ]
  },
  {
   "cell_type": "code",
   "execution_count": 15,
   "id": "4e11c62e",
   "metadata": {},
   "outputs": [
    {
     "name": "stdout",
     "output_type": "stream",
     "text": [
      "Even elements of list are:  [0, 2, 4, 6, 8]\n",
      "Odd elements of list are:  [1, 3, 5, 7, 9]\n"
     ]
    }
   ],
   "source": [
    "s=[1,2,3,4,5,6,7,8,9,10]\n",
    "a=[]\n",
    "b=[]\n",
    "for i in range (len(s)):\n",
    "    if s[i]%2==0:\n",
    "            a.append(i)\n",
    "    else :\n",
    "          b.append(i)\n",
    "print(\"Even elements of list are: \",b)\n",
    "print(\"Odd elements of list are: \",a)\n",
    "    "
   ]
  },
  {
   "cell_type": "markdown",
   "id": "eb80f924",
   "metadata": {},
   "source": [
    "3) Write a Python program to remove duplicates from a list"
   ]
  },
  {
   "cell_type": "code",
   "execution_count": 21,
   "id": "cdca7793",
   "metadata": {},
   "outputs": [
    {
     "name": "stdout",
     "output_type": "stream",
     "text": [
      "[1, 2, 3, 4, 5, 6, 7]\n"
     ]
    }
   ],
   "source": [
    "s=[1,2,3,4,5,6,7,1,3,6,4,6,5]\n",
    "a=[]\n",
    "for i in range(len(s)):\n",
    "    if s[i] not in a:\n",
    "        a.append(s[i])\n",
    "    else:\n",
    "        pass\n",
    "print(a)"
   ]
  },
  {
   "cell_type": "markdown",
   "id": "746a3eae",
   "metadata": {},
   "source": [
    "4) Write a Python program to check a list is empty or not."
   ]
  },
  {
   "cell_type": "code",
   "execution_count": 5,
   "id": "ca55629e",
   "metadata": {},
   "outputs": [
    {
     "name": "stdout",
     "output_type": "stream",
     "text": [
      "Enter the number of elements: 5\n",
      "sundar \n",
      "yadav\n",
      "786\n",
      "9618\n",
      "king\n",
      "['sundar ', 'yadav', '786', '9618', 'king']\n",
      "List has  5  elements\n"
     ]
    }
   ],
   "source": [
    "s=[]\n",
    "n=int(input(\"Enter the number of elements: \"))\n",
    "for i in range(n):\n",
    "    a=input()\n",
    "    s.append(a)\n",
    "print(s)\n",
    "if len(s)==0:\n",
    "    print(\"List is empty\")\n",
    "else:\n",
    "    print(\"List has \",n,\" elements\")"
   ]
  },
  {
   "cell_type": "markdown",
   "id": "65aaa9c0",
   "metadata": {},
   "source": [
    "5) Write a Python program to print a specified list after removing the 0th, 4th and 5th elements."
   ]
  },
  {
   "cell_type": "code",
   "execution_count": 7,
   "id": "e906a2f7",
   "metadata": {},
   "outputs": [
    {
     "data": {
      "text/plain": [
       "[2, 3, 5, 6, 5]"
      ]
     },
     "execution_count": 7,
     "metadata": {},
     "output_type": "execute_result"
    }
   ],
   "source": [
    "s=[1,2,3,5,6,7,5,3]\n",
    "del s[0]\n",
    "del s[4]\n",
    "del s[5]\n",
    "s"
   ]
  },
  {
   "cell_type": "markdown",
   "id": "b337c655",
   "metadata": {},
   "source": [
    "6) Write a Python function that takes two lists and returns True if they have at least one common member."
   ]
  },
  {
   "cell_type": "code",
   "execution_count": 19,
   "id": "ef571581",
   "metadata": {},
   "outputs": [
    {
     "name": "stdout",
     "output_type": "stream",
     "text": [
      "enter number of elementes in lists 1 :4\n",
      "enter number of elementes in lists2 :5\n",
      "Enter the elements of list 1\n",
      "1\n",
      "2\n",
      "3\n",
      "4\n",
      "Enter the elemets of list2\n",
      "5\n",
      "6\n",
      "7\n",
      "8\n",
      "9\n",
      "List 1 is  ['1', '2', '3', '4']\n",
      "List 2 is  ['5', '6', '7', '8', '9']\n",
      "No matching found\n"
     ]
    }
   ],
   "source": [
    "s=[]\n",
    "h=[]\n",
    "n=int(input(\"enter number of elementes in lists 1 :\"))\n",
    "m=int(input(\"enter number of elementes in lists2 :\"))\n",
    "print(\"Enter the elements of list 1\")\n",
    "for i in range(n):\n",
    "    a=input()\n",
    "    s.append(a)\n",
    "print(\"Enter the elemets of list2\")\n",
    "for i in range(m):\n",
    "    b=input()\n",
    "    h.append(b)\n",
    "print(\"List 1 is \",s)\n",
    "print(\"List 2 is \",h)\n",
    "for i in range(len(s)):\n",
    "    if s[i] in h:\n",
    "        print(\"True\")\n",
    "        break\n",
    "    else:\n",
    "        k=0\n",
    "if k==0:\n",
    "     print(\"No matching found\")\n",
    "        \n",
    "        \n",
    "\n",
    "    \n",
    "    "
   ]
  },
  {
   "cell_type": "markdown",
   "id": "13460200",
   "metadata": {},
   "source": [
    "7) Write a program to remove duplicates and print tuple except last value\n",
    "input : (\"a\",\"b\",\"c\",\"b\",\"a\")\n",
    "output : (\"a\",\"b\")"
   ]
  },
  {
   "cell_type": "code",
   "execution_count": 20,
   "id": "e1a92604",
   "metadata": {},
   "outputs": [
    {
     "name": "stdout",
     "output_type": "stream",
     "text": [
      "('a', 1, 2, 'b', 4, 6, 8, 'l')\n"
     ]
    }
   ],
   "source": [
    "t=('a',1,2 ,'b',2,4,6,4,8,'l')\n",
    "l=[]\n",
    "for i in t:\n",
    "    if i not in l:\n",
    "        l.append(i)\n",
    "print(tuple(l))"
   ]
  },
  {
   "cell_type": "markdown",
   "id": "b1d9c564",
   "metadata": {},
   "source": [
    "8) write a program to replace element by given element\n",
    "input : (\"hi\",\"hello\",\"Sorry\",\"bye\")\n",
    "\n",
    "element : Sorry\n",
    "\n",
    "new Element : Good\n",
    "\n",
    "ouput : (\"hi\",\"hello\",\"Good\",\"bye\")"
   ]
  },
  {
   "cell_type": "code",
   "execution_count": 21,
   "id": "ff4719bd",
   "metadata": {},
   "outputs": [
    {
     "data": {
      "text/plain": [
       "('hi', 'hello', 'Good', 'bye')"
      ]
     },
     "execution_count": 21,
     "metadata": {},
     "output_type": "execute_result"
    }
   ],
   "source": [
    "a=('hi','hello','sorry','bye')\n",
    "# converting tuple to list\n",
    "b=list(a)\n",
    "#Replacing the 'sorry' element with 'Good'\n",
    "i=b.index('sorry')\n",
    "b[i]='Good'\n",
    "tuple(b)"
   ]
  },
  {
   "cell_type": "markdown",
   "id": "b4467330",
   "metadata": {},
   "source": [
    "9) Write a python program to sum all the elements of the list"
   ]
  },
  {
   "cell_type": "code",
   "execution_count": 23,
   "id": "434dad1c",
   "metadata": {},
   "outputs": [
    {
     "name": "stdout",
     "output_type": "stream",
     "text": [
      "Enter the number of elements: 10\n",
      "Enter the list elements\n",
      "1\n",
      "2\n",
      "3\n",
      "4\n",
      "5\n",
      "6\n",
      "7\n",
      "8\n",
      "9\n",
      "10\n",
      "List is:  [1, 2, 3, 4, 5, 6, 7, 8, 9, 10]\n",
      "Sum of elements of the list is 55\n"
     ]
    }
   ],
   "source": [
    "n=int(input(\"Enter the number of elements: \"))\n",
    "l=[]\n",
    "print(\"Enter the list elements\")\n",
    "for i in range(n):\n",
    "    a=int(input())\n",
    "    l.append(a)\n",
    "print(\"List is: \",l)\n",
    "#to sum the elements of list\n",
    "s=0\n",
    "for i in range(len(l)):\n",
    "    s=s+l[i]\n",
    "print(\"Sum of elements of the list is\",s)"
   ]
  },
  {
   "cell_type": "code",
   "execution_count": null,
   "id": "d62d2e98",
   "metadata": {},
   "outputs": [],
   "source": []
  }
 ],
 "metadata": {
  "kernelspec": {
   "display_name": "Python 3",
   "language": "python",
   "name": "python3"
  },
  "language_info": {
   "codemirror_mode": {
    "name": "ipython",
    "version": 3
   },
   "file_extension": ".py",
   "mimetype": "text/x-python",
   "name": "python",
   "nbconvert_exporter": "python",
   "pygments_lexer": "ipython3",
   "version": "3.8.8"
  }
 },
 "nbformat": 4,
 "nbformat_minor": 5
}
