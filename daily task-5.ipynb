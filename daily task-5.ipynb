{
 "cells": [
  {
   "cell_type": "markdown",
   "id": "7bf98722",
   "metadata": {},
   "source": [
    "Write a Python script to print a dictionary where the keys are numbers between 1 and 15 (both included) and the values are square of keys"
   ]
  },
  {
   "cell_type": "code",
   "execution_count": 1,
   "id": "f2bfdafc",
   "metadata": {},
   "outputs": [
    {
     "name": "stdout",
     "output_type": "stream",
     "text": [
      "{1: 1, 2: 4, 3: 9, 4: 16, 5: 25, 6: 36, 7: 49, 8: 64, 9: 81, 10: 100, 11: 121, 12: 144, 13: 169, 14: 196, 15: 225}\n"
     ]
    }
   ],
   "source": [
    "d={}\n",
    "for i in range(1,16):\n",
    "    d[i]=i*i\n",
    "print(d)"
   ]
  },
  {
   "cell_type": "markdown",
   "id": "e9ae35e7",
   "metadata": {},
   "source": [
    "Write a Python program to map two lists into a dictionary"
   ]
  },
  {
   "cell_type": "code",
   "execution_count": 3,
   "id": "055101f2",
   "metadata": {},
   "outputs": [
    {
     "name": "stdout",
     "output_type": "stream",
     "text": [
      "Enter the number of values: 5\n",
      "enter the keys:\n",
      "1\n",
      "2\n",
      "3\n",
      "4\n",
      "5\n",
      "enter the values:\n",
      "eddala\n",
      "hemas\n",
      "sundar\n",
      "yadav\n",
      "2019 batch\n",
      "{'1': 'eddala', '2': 'hemas', '3': 'sundar', '4': 'yadav', '5': '2019 batch'}\n"
     ]
    }
   ],
   "source": [
    "s=[]\n",
    "h=[]\n",
    "n=int(input(\"Enter the number of values: \"))\n",
    "print(\"enter the keys:\")\n",
    "for i in range(n):\n",
    "    a=input()\n",
    "    s.append(a)\n",
    "print(\"enter the values:\")\n",
    "for i in range(n):\n",
    "    b=input()\n",
    "    h.append(b)\n",
    "d={}\n",
    "for i in range (n):\n",
    "    d[s[i]]=h[i]\n",
    "print(d)\n"
   ]
  },
  {
   "cell_type": "markdown",
   "id": "08c88379",
   "metadata": {},
   "source": [
    "Write a Python program to sort a list alphabetically in a dictionary\n",
    "input : {'n1': [2, 3, 1], 'n2': [5, 1, 2], 'n3': [3, 2, 4]}\n",
    "output : {'n1': [1, 2, 3], 'n2': [1, 2, 5], 'n3': [2, 3, 4]}"
   ]
  },
  {
   "cell_type": "code",
   "execution_count": 4,
   "id": "092674b9",
   "metadata": {},
   "outputs": [
    {
     "name": "stdout",
     "output_type": "stream",
     "text": [
      "{'n1': [1, 2, 3], 'n2': [1, 2, 5], 'n3': [2, 3, 4]}\n"
     ]
    }
   ],
   "source": [
    "d1={'n1': [2, 3, 1], 'n2': [5, 1, 2], 'n3': [3, 2, 4]}\n",
    "print({k:sorted(v) for k,v in d1.items()})"
   ]
  },
  {
   "cell_type": "code",
   "execution_count": null,
   "id": "6a6a3ce3",
   "metadata": {},
   "outputs": [],
   "source": []
  }
 ],
 "metadata": {
  "kernelspec": {
   "display_name": "Python 3",
   "language": "python",
   "name": "python3"
  },
  "language_info": {
   "codemirror_mode": {
    "name": "ipython",
    "version": 3
   },
   "file_extension": ".py",
   "mimetype": "text/x-python",
   "name": "python",
   "nbconvert_exporter": "python",
   "pygments_lexer": "ipython3",
   "version": "3.8.8"
  }
 },
 "nbformat": 4,
 "nbformat_minor": 5
}
