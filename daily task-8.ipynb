{
 "cells": [
  {
   "cell_type": "code",
   "execution_count": 1,
   "id": "a5863d1b",
   "metadata": {},
   "outputs": [],
   "source": [
    "import module\n"
   ]
  },
  {
   "cell_type": "code",
   "execution_count": 4,
   "id": "6c3a5349",
   "metadata": {},
   "outputs": [
    {
     "name": "stdout",
     "output_type": "stream",
     "text": [
      "Sundar\n",
      "👍\n"
     ]
    }
   ],
   "source": [
    "module.camelcaseon()"
   ]
  },
  {
   "cell_type": "code",
   "execution_count": 5,
   "id": "e88f7b0d",
   "metadata": {},
   "outputs": [
    {
     "name": "stdout",
     "output_type": "stream",
     "text": [
      "sundar\n",
      "Sundar\n"
     ]
    }
   ],
   "source": [
    "module.camelcaseon()\n"
   ]
  },
  {
   "cell_type": "code",
   "execution_count": null,
   "id": "4464e584",
   "metadata": {},
   "outputs": [],
   "source": []
  }
 ],
 "metadata": {
  "kernelspec": {
   "display_name": "Python 3",
   "language": "python",
   "name": "python3"
  },
  "language_info": {
   "codemirror_mode": {
    "name": "ipython",
    "version": 3
   },
   "file_extension": ".py",
   "mimetype": "text/x-python",
   "name": "python",
   "nbconvert_exporter": "python",
   "pygments_lexer": "ipython3",
   "version": "3.8.8"
  }
 },
 "nbformat": 4,
 "nbformat_minor": 5
}
