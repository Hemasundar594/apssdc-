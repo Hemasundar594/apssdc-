{
 "cells": [
  {
   "cell_type": "markdown",
   "id": "391effaa",
   "metadata": {},
   "source": [
    "\n",
    "Write a pattern to display 4 digit numbers from the list1 list1 = [3682, 6309246699, 233733, 8942, 567, 7536]"
   ]
  },
  {
   "cell_type": "code",
   "execution_count": 1,
   "id": "90aad827",
   "metadata": {},
   "outputs": [
    {
     "name": "stdout",
     "output_type": "stream",
     "text": [
      "3682\n",
      "8942\n",
      "7536\n"
     ]
    }
   ],
   "source": [
    "import re\n",
    "list = ['3682', '6309246699', '233733', '8942', '567', '7536']\n",
    "for i in list:\n",
    "    if re.findall('^[0-9]{4}$', i):\n",
    "        print(i)"
   ]
  },
  {
   "cell_type": "markdown",
   "id": "a7b8cf97",
   "metadata": {},
   "source": [
    "\n",
    "Validate a phone number using patterns. ph_list = [9876543210, 8123456789, 7890123456, 789654, 1234567890]"
   ]
  },
  {
   "cell_type": "code",
   "execution_count": 2,
   "id": "be587058",
   "metadata": {},
   "outputs": [
    {
     "name": "stdout",
     "output_type": "stream",
     "text": [
      "9876543210\n",
      "8123456789\n",
      "7890123456\n"
     ]
    }
   ],
   "source": [
    "phno_list = ['9876543210', '8123456789', '7890123456', '789654', '1234567890']\n",
    "for i in phno_list:\n",
    "    if re.findall('[6-9]{1}[0-9]{9}$', i):\n",
    "        print(i)"
   ]
  },
  {
   "cell_type": "code",
   "execution_count": null,
   "id": "a57eea6a",
   "metadata": {},
   "outputs": [],
   "source": []
  }
 ],
 "metadata": {
  "kernelspec": {
   "display_name": "Python 3",
   "language": "python",
   "name": "python3"
  },
  "language_info": {
   "codemirror_mode": {
    "name": "ipython",
    "version": 3
   },
   "file_extension": ".py",
   "mimetype": "text/x-python",
   "name": "python",
   "nbconvert_exporter": "python",
   "pygments_lexer": "ipython3",
   "version": "3.8.8"
  }
 },
 "nbformat": 4,
 "nbformat_minor": 5
}
