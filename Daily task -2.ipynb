{
 "cells": [
  {
   "cell_type": "code",
   "execution_count": 1,
   "id": "1a78d4e9",
   "metadata": {},
   "outputs": [
    {
     "name": "stdout",
     "output_type": "stream",
     "text": [
      "AP19110010011\n",
      "AP19110010011  belongs to CSE dept\n"
     ]
    }
   ],
   "source": [
    "#program to find the given admission number belongs to which group\n",
    "#Take last 3 values of admition number\n",
    "#If value starts with \"01\"----> 'CSE dept'\n",
    "#If value starts with \"11\"----> 'IT dept'\n",
    "#If value starts with \"21\"----> 'Mech/ECE dept'\n",
    "string=str(input())\n",
    "if string[-3:].startswith('01'):\n",
    "    print(string,\" belongs to CSE dept\")\n",
    "elif string[-3:].startswith('11'):\n",
    "    print(string,\" belongs to IT dept\")\n",
    "elif  string[-3:].startswith('21'):\n",
    "    print(string,\" belongs to ECE/Mech dept\")\n",
    "else:\n",
    "    print(string,\" doe's not belongs to University....\")"
   ]
  },
  {
   "cell_type": "code",
   "execution_count": null,
   "id": "f78dba46",
   "metadata": {},
   "outputs": [],
   "source": [
    "for year in range (1800,2021):\n",
    "   if  (year % 4 == 0  and year % 100 != 0) or (year % 400 == 0):\n",
    "            print(year,end = '\\t ')\n"
   ]
  }
 ],
 "metadata": {
  "kernelspec": {
   "display_name": "Python 3",
   "language": "python",
   "name": "python3"
  },
  "language_info": {
   "codemirror_mode": {
    "name": "ipython",
    "version": 3
   },
   "file_extension": ".py",
   "mimetype": "text/x-python",
   "name": "python",
   "nbconvert_exporter": "python",
   "pygments_lexer": "ipython3",
   "version": "3.8.8"
  }
 },
 "nbformat": 4,
 "nbformat_minor": 5
}
