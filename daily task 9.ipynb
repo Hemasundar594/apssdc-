{
 "cells": [
  {
   "cell_type": "markdown",
   "id": "09cb61cf",
   "metadata": {},
   "source": [
    "Task:\n",
    "Generate 3-Digit OTP from 2 different Classes (Mail class and Phone Class)\n",
    "return 6digit OTP from Baseclasses(super classes)"
   ]
  },
  {
   "cell_type": "code",
   "execution_count": 2,
   "id": "bb8199b9",
   "metadata": {},
   "outputs": [
    {
     "name": "stdout",
     "output_type": "stream",
     "text": [
      "Mail OTP : 795\n",
      "Mobile OTP : 212\n",
      "OTP generated in mail\n",
      "OTP generated in mobile\n",
      "OTP of base class is  795212\n"
     ]
    },
    {
     "data": {
      "text/plain": [
       "<__main__.otp at 0x25a2b0bd640>"
      ]
     },
     "execution_count": 2,
     "metadata": {},
     "output_type": "execute_result"
    }
   ],
   "source": [
    "from random import randint\n",
    "class Mail():\n",
    "    s1=\"\"\n",
    "    def __init__(self):\n",
    "        print(\"OTP generated in mail\")\n",
    "    for i in range(3):\n",
    "        s1+=str(randint(0,9))\n",
    "    print(\"Mail OTP :\",s1)\n",
    "class Phone():\n",
    "    s2=\"\"\n",
    "    def __init__(self):\n",
    "        print(\"OTP generated in mobile\")\n",
    "    for i in range(3):\n",
    "        s2+=str(randint(0,9))\n",
    "    print(\"Mobile OTP :\",s2)\n",
    "class otp(Mail,Phone):\n",
    "    def __init__(self):\n",
    "        Mail.__init__(self)\n",
    "        Phone.__init__(self)\n",
    "        print(\"OTP of base class is \",str(self.s1)+str(self.s2))\n",
    "otp()"
   ]
  }
 ],
 "metadata": {
  "kernelspec": {
   "display_name": "Python 3",
   "language": "python",
   "name": "python3"
  },
  "language_info": {
   "codemirror_mode": {
    "name": "ipython",
    "version": 3
   },
   "file_extension": ".py",
   "mimetype": "text/x-python",
   "name": "python",
   "nbconvert_exporter": "python",
   "pygments_lexer": "ipython3",
   "version": "3.8.8"
  }
 },
 "nbformat": 4,
 "nbformat_minor": 5
}
