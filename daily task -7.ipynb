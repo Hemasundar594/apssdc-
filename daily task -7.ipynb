{
 "cells": [
  {
   "cell_type": "markdown",
   "id": "49f2c9fe",
   "metadata": {},
   "source": [
    "1.create a function for finding the leap years within the given range"
   ]
  },
  {
   "cell_type": "code",
   "execution_count": 1,
   "id": "3330eda9",
   "metadata": {},
   "outputs": [
    {
     "name": "stdout",
     "output_type": "stream",
     "text": [
      " 2001 2100\n",
      "The leap years between  2001 and  2100 are\n",
      "2004\n",
      "2008\n",
      "2012\n",
      "2016\n",
      "2020\n",
      "2024\n",
      "2028\n",
      "2032\n",
      "2036\n",
      "2040\n",
      "2044\n",
      "2048\n",
      "2052\n",
      "2056\n",
      "2060\n",
      "2064\n",
      "2068\n",
      "2072\n",
      "2076\n",
      "2080\n",
      "2084\n",
      "2088\n",
      "2092\n",
      "2096\n"
     ]
    }
   ],
   "source": [
    "def leap_range():\n",
    "    a,b=map(int, input().split())\n",
    "    print(\"The leap years between \",a,\"and \",b,\"are\")\n",
    "    for i in range(a,b+1):\n",
    "        if (i%4==0 and i%100!=0) or (i%400==0):\n",
    "            print(i)\n",
    "leap_range()"
   ]
  },
  {
   "cell_type": "markdown",
   "id": "c7284ade",
   "metadata": {},
   "source": [
    "2.Create a function for getting the armstrong numbers within the given range"
   ]
  },
  {
   "cell_type": "code",
   "execution_count": 4,
   "id": "a9f6ec15",
   "metadata": {},
   "outputs": [
    {
     "name": "stdout",
     "output_type": "stream",
     "text": [
      "0 153\n",
      "0\n",
      "1\n",
      "153\n"
     ]
    }
   ],
   "source": [
    "def armstrong ():\n",
    "    a,b=map(int, input().split())\n",
    "    for i  in range (a,b+1):\n",
    "        s=0\n",
    "        t=i\n",
    "        while i>0:\n",
    "            r=i%10\n",
    "            s+=r**3\n",
    "            i=i//10\n",
    "        if s==t:\n",
    "            print(t)\n",
    "        else:\n",
    "            pass\n",
    "armstrong()"
   ]
  },
  {
   "cell_type": "markdown",
   "id": "85ba282d",
   "metadata": {},
   "source": [
    "\n",
    "3.create a function for getting the prime numbers within the range"
   ]
  },
  {
   "cell_type": "code",
   "execution_count": 3,
   "id": "9a056935",
   "metadata": {},
   "outputs": [
    {
     "name": "stdout",
     "output_type": "stream",
     "text": [
      "Enter lower range: 2\n",
      "Enter upper range: 100\n",
      "2,3,5,7,11,13,17,19,23,29,31,37,41,43,47,53,59,61,67,71,73,79,83,89,97,"
     ]
    }
   ],
   "source": [
    "def prime():\n",
    "    start = int(input(\"Enter lower range: \"))  \n",
    "    end = int(input(\"Enter upper range: \"))  \n",
    "    for num in range(start,end + 1):\n",
    "        if num > 1:\n",
    "            for i in range(2,num):\n",
    "                if (num % i) == 0:\n",
    "                    break\n",
    "            else:\n",
    "                    print(num,end=\",\")\n",
    "prime()"
   ]
  },
  {
   "cell_type": "markdown",
   "id": "0b51a80d",
   "metadata": {},
   "source": [
    "\n",
    "4. Create a function for finding the count of elements in a string. \"Srm university\""
   ]
  },
  {
   "cell_type": "code",
   "execution_count": 1,
   "id": "2f4f520b",
   "metadata": {},
   "outputs": [
    {
     "name": "stdout",
     "output_type": "stream",
     "text": [
      "Enter the string srm university ap\n"
     ]
    },
    {
     "data": {
      "text/plain": [
       "{'s': 2,\n",
       " 'r': 2,\n",
       " 'm': 1,\n",
       " ' ': 2,\n",
       " 'u': 1,\n",
       " 'n': 1,\n",
       " 'i': 2,\n",
       " 'v': 1,\n",
       " 'e': 1,\n",
       " 't': 1,\n",
       " 'y': 1,\n",
       " 'a': 1,\n",
       " 'p': 1}"
      ]
     },
     "execution_count": 1,
     "metadata": {},
     "output_type": "execute_result"
    }
   ],
   "source": [
    "def count():\n",
    "    a=input(\"Enter the string \")\n",
    "    c=a.lower()\n",
    "    b={}\n",
    "    for i in c:\n",
    "        if i in b:\n",
    "            b[i]=b[i]+1\n",
    "        else:\n",
    "            b[i]=1\n",
    "    return b           \n",
    "count()"
   ]
  },
  {
   "cell_type": "code",
   "execution_count": null,
   "id": "f0bf751f",
   "metadata": {},
   "outputs": [],
   "source": []
  }
 ],
 "metadata": {
  "kernelspec": {
   "display_name": "Python 3",
   "language": "python",
   "name": "python3"
  },
  "language_info": {
   "codemirror_mode": {
    "name": "ipython",
    "version": 3
   },
   "file_extension": ".py",
   "mimetype": "text/x-python",
   "name": "python",
   "nbconvert_exporter": "python",
   "pygments_lexer": "ipython3",
   "version": "3.8.8"
  }
 },
 "nbformat": 4,
 "nbformat_minor": 5
}
