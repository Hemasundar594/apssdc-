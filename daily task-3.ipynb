{
 "cells": [
  {
   "cell_type": "code",
   "execution_count": 5,
   "id": "dd7091c5",
   "metadata": {},
   "outputs": [
    {
     "name": "stdout",
     "output_type": "stream",
     "text": [
      "enter you value:sundar\n",
      "length of the string is  6\n",
      "n d\n"
     ]
    }
   ],
   "source": [
    "a = input(\"enter you value:\")\n",
    "print('length of the string is ',len(a))\n",
    "if (len(a))%2==0:\n",
    "    b = a[(len(a) - 1) // 2]\n",
    "    c = a[len(a) // 2]\n",
    "    print(b,c)\n",
    "else:\n",
    "    middle = a[len(a)//2]\n",
    "    print(middle)"
   ]
  },
  {
   "cell_type": "code",
   "execution_count": null,
   "id": "10148e8b",
   "metadata": {},
   "outputs": [],
   "source": []
  }
 ],
 "metadata": {
  "kernelspec": {
   "display_name": "Python 3",
   "language": "python",
   "name": "python3"
  },
  "language_info": {
   "codemirror_mode": {
    "name": "ipython",
    "version": 3
   },
   "file_extension": ".py",
   "mimetype": "text/x-python",
   "name": "python",
   "nbconvert_exporter": "python",
   "pygments_lexer": "ipython3",
   "version": "3.8.8"
  }
 },
 "nbformat": 4,
 "nbformat_minor": 5
}
